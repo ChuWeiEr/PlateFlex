{
 "cells": [
  {
   "cell_type": "markdown",
   "metadata": {},
   "source": [
    "# Example 4: Flexural parameters at single grid cell"
   ]
  },
  {
   "cell_type": "markdown",
   "metadata": {},
   "source": [
    "All the previous examples have led us to the calculation of the wavelet admittance and coherence functions at every grid cell. However, the main purpose ot `PlateFlex` is to estimate (and map) the flexural parameters of the lithosphere from the inversion of the admittance and coherence functions. We will explore this step-by-step again, starting with the estimation of flexural parameters at a single grid cell.\n",
    "\n",
    "Let's start again by loading the topography data into a `TopoGrid` object and the Bouguer gravity anomaly data into a `BougGrid` object, which are then both inserted into a `Project` object. "
   ]
  },
  {
   "cell_type": "code",
   "execution_count": 1,
   "metadata": {},
   "outputs": [],
   "source": [
    "import numpy as np\n",
    "import pandas as pd\n",
    "from plateflex import TopoGrid, BougGrid, Project\n",
    "\n",
    "# Read header (first line) of data set using pandas to get grid parameters\n",
    "xmin, xmax, ymin, ymax, zmin, zmax, dx, dy, nx, ny = \\\n",
    "pd.read_csv('../data/Topo_NA.xyz', sep='\\t', nrows=0).columns[1:].values.astype(float)\n",
    "\n",
    "# Change type of nx and ny from float to integers\n",
    "nx = int(nx); ny = int(ny)\n",
    "\n",
    "# Read topography and Bouguer anomaly data \n",
    "topodata = pd.read_csv('../data/Topo_NA.xyz', sep='\\t', \\\n",
    "    skiprows=1, names=['x', 'y', 'z'])['z'].values.reshape(ny,nx)[::-1]\n",
    "bougdata = pd.read_csv('../data/Bouguer_NA.xyz', sep='\\t', \\\n",
    "    skiprows=1, names=['x', 'y', 'z'])['z'].values.reshape(ny,nx)[::-1]\n",
    "\n",
    "# Load the data as `TopoGrid` and `BougGrid` objects\n",
    "topo = TopoGrid(topodata, dx, dy)\n",
    "boug = BougGrid(bougdata, dx, dy)\n",
    "\n",
    "# Create contours\n",
    "contours = topo.make_contours(0.)\n",
    "\n",
    "# Make mask \n",
    "mask = (topo.data < -500.)\n",
    "\n",
    "# Define new project\n",
    "project = Project(grids=[topo, boug])\n",
    "\n",
    "# Initialize project\n",
    "project.init()\n",
    "\n",
    "# Calculate wavelet admittance and coherence\n",
    "project.wlet_admit_coh()\n",
    "\n",
    "# Take random cell value within grid and set as attribute\n",
    "cell = (250, 100)\n",
    "project.cell = cell"
   ]
  },
  {
   "cell_type": "markdown",
   "metadata": {},
   "source": [
    "We are ready to estimate the flexural parameters for the specified grid cell. Before going further, let's remind ourselves of the following: "
   ]
  },
  {
   "cell_type": "code",
   "execution_count": 2,
   "metadata": {},
   "outputs": [
    {
     "data": {
      "text/plain": [
       "dict_keys(['inverse', 'grids', 'mask', 'initialized', 'rhoc', 'zc', 'water_depth', 'k', 'ns', 'nx', 'ny', 'wl_admit', 'ewl_admit', 'wl_coh', 'ewl_coh', 'cell'])"
      ]
     },
     "execution_count": 2,
     "metadata": {},
     "output_type": "execute_result"
    }
   ],
   "source": [
    "project.__dict__.keys()"
   ]
  },
  {
   "cell_type": "markdown",
   "metadata": {},
   "source": [
    "You notice that the project contains new attributes `rhoc` and `zc`, which can be used in the estimation of the flexural parameters. To check how these are defined, simply print them:"
   ]
  },
  {
   "cell_type": "code",
   "execution_count": 3,
   "metadata": {},
   "outputs": [
    {
     "name": "stdout",
     "output_type": "stream",
     "text": [
      "None\n",
      "None\n"
     ]
    }
   ],
   "source": [
    "print(project.rhoc)\n",
    "print(project.zc)"
   ]
  },
  {
   "cell_type": "markdown",
   "metadata": {},
   "source": [
    "By default these attributes are equal to `None`. This implies that the softwares will use default vaules for those fields during estimation of the flexural parameters. \n",
    "\n",
    "Let's explore the default parameters of the model."
   ]
  },
  {
   "cell_type": "code",
   "execution_count": 4,
   "metadata": {},
   "outputs": [
    {
     "name": "stdout",
     "output_type": "stream",
     "text": [
      "Global model parameters currently in use by plateflex:\n",
      "------------------------------------------------------\n",
      "[Crustal thickness]        zc (float):     35000 m\n",
      "[Mantle density]           rhom (float):   3200 kg/m^3\n",
      "[Crustal density]          rhoc (float):   2700 kg/m^3\n",
      "[Water density]            rhow (float):   1030 kg/m^3\n",
      "[Air density]              rhoa (float):   0 kg/m^3\n",
      "[Fluid density]            rhof (float):   0 kg/m^3\n",
      "[Water depth]              wd (float):     0 m\n",
      "[Bouguer analysis?]        boug (int):     1 ; True\n"
     ]
    }
   ],
   "source": [
    "# First we need to import `plateflex`\n",
    "import plateflex\n",
    "\n",
    "# Then print out the default parameters\n",
    "plateflex.get_conf_flex()"
   ]
  },
  {
   "cell_type": "markdown",
   "metadata": {},
   "source": [
    "In this default model, the crust is 35 km thick and has a density of 2700 kg/m^3, the mantle density is 3200 kg/m^3 and water depth has been set to 0 m. Furthermore, the fluid density (fluid above topography) has been set to that of air (0 kg/m^3). Finally, during initialization of the project, the software recognized that the `GravGrid` object was of type `BougGrid`, which updated the `boug` variable to 1 (`True`). \n",
    "\n",
    "<div class=\"alert alert-block alert-info\">\n",
    "<b>Note:</b> The variables `rhof` and `wd` do not need to be changed. The code will automatically extract the water depth at the specified grid cell and determined whether to use `rhow` or `rhoa` for the fluid density above the topography.\n",
    "</div>\n",
    "\n",
    "<div class=\"alert alert-block alert-warning\">\n",
    "<b>Warning 1:</b> It is highly recommmended not to change the variable `boug`, since the calculation of the predicted admittance and coherence depends on that flag and will give erroneous results if mis-used.\n",
    "</div>\n",
    "\n",
    "<div class=\"alert alert-block alert-warning\">\n",
    "<b>Warning 2:</b> It is the responsibility of the user to specify the correct type of `GravGrid` to use when loading the data set of gravity anomalies.\n",
    "</div>\n",
    "\n",
    "Although some of these values appear to be reasonable, it is always possible to change some of them - in particular `rhoc`, `rhom`, `zc`, `rhow` or `rhoa` (although the default values for `rhom`, `rhow` and `rhoa` are fairly good estimates for this particular problem and should not affect the solution). "
   ]
  },
  {
   "cell_type": "code",
   "execution_count": 5,
   "metadata": {},
   "outputs": [
    {
     "name": "stdout",
     "output_type": "stream",
     "text": [
      "Global model parameters currently in use by plateflex:\n",
      "------------------------------------------------------\n",
      "[Crustal thickness]        zc (float):     40000 m\n",
      "[Mantle density]           rhom (float):   3200 kg/m^3\n",
      "[Crustal density]          rhoc (float):   2670 kg/m^3\n",
      "[Water density]            rhow (float):   1030 kg/m^3\n",
      "[Air density]              rhoa (float):   0 kg/m^3\n",
      "[Fluid density]            rhof (float):   0 kg/m^3\n",
      "[Water depth]              wd (float):     0 m\n",
      "[Bouguer analysis?]        boug (int):     1 ; True\n"
     ]
    }
   ],
   "source": [
    "# Change crustal thickness and density\n",
    "from plateflex.flex import conf_flex as cf\n",
    "cf.zc = 40.e3 # in meters\n",
    "cf.rhoc = 2670. # in kg/m^3\n",
    "\n",
    "plateflex.get_conf_flex()"
   ]
  },
  {
   "cell_type": "markdown",
   "metadata": {},
   "source": [
    "Next, you probably remember that during initialization, the `inverse` attribute was set to `L2` (check this with `print(project.inverse)`). This implies that by default the software will use a non-linear least-squares method to estimate the flexural parameters. The two available options are `'L2'` and `'bayes'`, the latter based on a probabilistic estimation method based on bayesian inference. A couple of things to note:\n",
    "\n",
    "<div class=\"alert alert-block alert-info\">\n",
    "<b>Note 1:</b> The two methods should give very similar results. Differences arise mainly because the 'bayes' approach draws a finite number of samples from the posterior distribution, and equality is achieved only for infinite sampling of the posterior and for the maximum a posteriori (MAP) estimate (because the mean estimate of the posterior can be biased if there is more than one mode). \n",
    "</div>\n",
    "\n",
    "<div class=\"alert alert-block alert-info\">\n",
    "<b>Note 2:</b> The 'L2' approach is <b>MUCH</b> faster than the 'bayes' approach. However, the 'bayes' approach provides useful statistics for the inference step. \n",
    "</div>\n",
    "\n",
    "Let's examine the estimation of the flexural parameters using the default `'L2'` approach, by only specifying the cell location (tuple):"
   ]
  },
  {
   "cell_type": "code",
   "execution_count": 6,
   "metadata": {},
   "outputs": [
    {
     "name": "stdout",
     "output_type": "stream",
     "text": [
      "          mean       std      chi2\n",
      "Te  134.963241  5.946432  7.314674\n",
      "F     0.693253  0.020006  7.314674\n"
     ]
    },
    {
     "data": {
      "image/png": "[encoded data removed]",
      "text/plain": [
       "<Figure size 432x288 with 2 Axes>"
      ]
     },
     "metadata": {
      "needs_background": "light"
     },
     "output_type": "display_data"
    }
   ],
   "source": [
    "cell = (250, 200)\n",
    "\n",
    "# Perform estimation\n",
    "project.estimate_cell(cell)\n",
    "\n",
    "# Print summary\n",
    "print(project.summary)\n",
    "\n",
    "# Plot observed and predicted (best-fit) functins:\n",
    "project.plot_functions()"
   ]
  },
  {
   "cell_type": "markdown",
   "metadata": {},
   "source": [
    "Now do the same using the `'bayes'` approach"
   ]
  },
  {
   "cell_type": "code",
   "execution_count": null,
   "metadata": {},
   "outputs": [],
   "source": [
    "# Switch inverse attribute\n",
    "project.inverse = 'bayes'\n",
    "\n",
    "# Perform estimation\n",
    "project.estimate_cell(cell)\n",
    "\n",
    "# Print summary\n",
    "print(project.summary)\n",
    "\n",
    "# Plot observed and predicted (best-fit) functions using the MAP estimate:\n",
    "project.plot_functions(est='MAP')\n",
    "\n",
    "# Plot stats for estimate\n",
    "project.plot_bayes_stats()"
   ]
  },
  {
   "cell_type": "markdown",
   "metadata": {},
   "source": [
    "In the background, the method has done a joint inversion of the admittance and coherence functions to estimate the flexural parameters. This is the default setting for the estimation, but can be changed by specifying a different `atype` values (default: `atype='joint'`; other available options are `atype='admit'` and `atype='coh'`):"
   ]
  },
  {
   "cell_type": "code",
   "execution_count": null,
   "metadata": {},
   "outputs": [],
   "source": [
    "# Switch back to `L2`\n",
    "project.inverse = 'L2'\n",
    "\n",
    "# Perform estimation, print summary and plot\n",
    "project.estimate_cell(cell, atype='admit')\n",
    "print(project.summary)\n",
    "project.plot_functions()"
   ]
  },
  {
   "cell_type": "code",
   "execution_count": null,
   "metadata": {},
   "outputs": [],
   "source": [
    "# Perform estimation, print summary and plot\n",
    "project.estimate_cell(cell, atype='coh')\n",
    "print(project.summary)\n",
    "project.plot_functions()"
   ]
  },
  {
   "cell_type": "markdown",
   "metadata": {},
   "source": [
    "And the same with the `'bayes'` approach"
   ]
  },
  {
   "cell_type": "code",
   "execution_count": null,
   "metadata": {},
   "outputs": [],
   "source": [
    "# Switch again to `bayes`\n",
    "project.inverse = 'bayes'\n",
    "\n",
    "# Perform estimation, print summary and plot\n",
    "project.estimate_cell(cell, atype='admit')\n",
    "print(project.summary)\n",
    "project.plot_functions(est='MAP')\n",
    "project.plot_bayes_stats()"
   ]
  },
  {
   "cell_type": "code",
   "execution_count": null,
   "metadata": {},
   "outputs": [],
   "source": [
    "# Perform estimation, print summary and plot\n",
    "project.estimate_cell(cell, atype='coh')\n",
    "print(project.summary)\n",
    "project.plot_functions(est='MAP')\n",
    "project.plot_bayes_stats()"
   ]
  },
  {
   "cell_type": "markdown",
   "metadata": {},
   "source": [
    "You can see in the last example that the sampling has flirted with high `F` values, thus giving a biased \"mean\" estimate. This effect has also biased the distribution of `Te` values as those higher `F` values have lowered the mean `Te`. The `'bayes'` approach is therefore showing that the inversion of the coherence function alone can give non-unique results. \n",
    "\n",
    "We are now ready to map out these parameters over the whole grid! Check out Example 5."
   ]
  }
 ],
 "metadata": {
  "kernelspec": {
   "display_name": "Python 3",
   "language": "python",
   "name": "python3"
  },
  "language_info": {
   "codemirror_mode": {
    "name": "ipython",
    "version": 3
   },
   "file_extension": ".py",
   "mimetype": "text/x-python",
   "name": "python",
   "nbconvert_exporter": "python",
   "pygments_lexer": "ipython3",
   "version": "3.7.3"
  }
 },
 "nbformat": 4,
 "nbformat_minor": 2
}
