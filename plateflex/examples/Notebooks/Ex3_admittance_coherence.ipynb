{
 "cells": [
  {
   "cell_type": "markdown",
   "metadata": {},
   "source": [
    "# Example 3: Admittance and Coherence"
   ]
  },
  {
   "cell_type": "markdown",
   "metadata": {},
   "source": [
    "The wavelet transform and scalogram are interesting on their own; however, the purpose of the `PlateFlex` software is to estimate the flexural parameters of the lithosphere from the inversion of admittance and coherence functions between topography and gravity anomaly data. We will re-use our North American example to calculate the admittance and coherence by introducing the `Project` class of `PlateFlex`.\n",
    "\n",
    "Let's start again by loading the topography data into a `TopoGrid` object and the Bouguer gravity anomaly data into a `BougGrid` object. We also need to import the `Project` class. We also create contours of the coastline and make a mask over deep ocean basins (this will become useful in a later example)."
   ]
  },
  {
   "cell_type": "code",
   "execution_count": 1,
   "metadata": {},
   "outputs": [
    {
     "data": {
      "text/plain": [
       "<Figure size 640x480 with 2 Axes>"
      ]
     },
     "metadata": {},
     "output_type": "display_data"
    },
    {
     "data": {
      "text/plain": [
       "<Figure size 640x480 with 2 Axes>"
      ]
     },
     "metadata": {},
     "output_type": "display_data"
    }
   ],
   "source": [
    "import numpy as np\n",
    "import pandas as pd\n",
    "from plateflex import TopoGrid, BougGrid, Project\n",
    "\n",
    "# Read header (first line) of data set using pandas to get grid parameters\n",
    "xmin, xmax, ymin, ymax, zmin, zmax, dx, dy, nx, ny = \\\n",
    "pd.read_csv('../data/Topo_NA.xyz', sep='\\t', nrows=0).columns[1:].values.astype(float)\n",
    "\n",
    "# Change type of nx and ny from float to integers\n",
    "nx = int(nx); ny = int(ny)\n",
    "\n",
    "# Read topography and bouguer anomaly data \n",
    "topodata = pd.read_csv('../data/Topo_NA.xyz', sep='\\t', \\\n",
    "    skiprows=1, names=['x', 'y', 'z'])['z'].values.reshape(ny,nx)[::-1]\n",
    "bougdata = pd.read_csv('../data/Bouguer_NA.xyz', sep='\\t', \\\n",
    "    skiprows=1, names=['x', 'y', 'z'])['z'].values.reshape(ny,nx)[::-1]\n",
    "\n",
    "# Load the data as `TopoGrid` and `BougGrid` objects\n",
    "topo = TopoGrid(topodata, dx, dy)\n",
    "boug = BougGrid(bougdata, dx, dy)\n",
    "\n",
    "# Create contours of coastlines\n",
    "contours = topo.make_contours(0.)\n",
    "\n",
    "# Make mask over deep basins\n",
    "mask = (topo.data < -500.)\n",
    "\n",
    "# Plot topo and boug objects with mask and contours - use alternative colormaps for topo\n",
    "topo.plot(mask=mask, contours=contours, cmap='gist_earth', vmin=-1000, vmax=2250)\n",
    "boug.plot(mask=mask, contours=contours, cmap='seismic', vmin=-400, vmax=400)"
   ]
  },
  {
   "cell_type": "markdown",
   "metadata": {},
   "source": [
    "These maps already show an obvious anti-correlation where high topography corresponds with negative Bouguer anomalies due to isostatic compensation. This relation is what we will exploit later to obtain the parameters of the flexural model.\n",
    "\n",
    "Next we will load the two grids into a `Project` object. The simplest way to accomplish this is by listing them during initialization of the `Project` object:"
   ]
  },
  {
   "cell_type": "code",
   "execution_count": 2,
   "metadata": {},
   "outputs": [],
   "source": [
    "project = Project(grids=[topo, boug])"
   ]
  },
  {
   "cell_type": "markdown",
   "metadata": {},
   "source": [
    "Alternatively, the `Project` class allows you to import grids in different ways. The `Project` initialization can be performed without any `Grid` object, and those objects are added later using a simple addition or `append` method:"
   ]
  },
  {
   "cell_type": "code",
   "execution_count": 3,
   "metadata": {},
   "outputs": [
    {
     "data": {
      "text/plain": [
       "<plateflex.classes.Project at 0x10342b9e8>"
      ]
     },
     "execution_count": 3,
     "metadata": {},
     "output_type": "execute_result"
    }
   ],
   "source": [
    "# Define empty Project\n",
    "project = Project()\n",
    "\n",
    "# Add topo\n",
    "project += topo\n",
    "\n",
    "# Add boug\n",
    "project.append(boug)"
   ]
  },
  {
   "cell_type": "markdown",
   "metadata": {},
   "source": [
    "You can check that the project contains the two grids, with additional attributes:"
   ]
  },
  {
   "cell_type": "code",
   "execution_count": 4,
   "metadata": {},
   "outputs": [
    {
     "data": {
      "text/plain": [
       "{'inverse': 'L2',\n",
       " 'grids': [<plateflex.classes.TopoGrid at 0x11c70eb70>,\n",
       "  <plateflex.classes.BougGrid at 0x11c70ec88>],\n",
       " 'mask': None,\n",
       " 'initialized': False}"
      ]
     },
     "execution_count": 4,
     "metadata": {},
     "output_type": "execute_result"
    }
   ],
   "source": [
    "project.__dict__"
   ]
  },
  {
   "cell_type": "markdown",
   "metadata": {},
   "source": [
    "* `inverse` specifies the type of estimation technique for the inversion of admittance and coherence functions (this will be useful later). \n",
    "* `grids` contains a list of `Grid` objects, in this case one `TopoGrid` and one `BougGrid` object.\n",
    "* `mask` is initialized as None. If updated to an array of booleans, the estimation of flexural parameters will be skipped over the masked grid cells.\n",
    "* `initialized`, which defaults to `False` at the beginning. The available methods (i.e., `wlet_admit_coh` or `estimate_cell`) will not work until the project is initialized using the `init()` method\n",
    "\n",
    "Once we are ready to proceed, we initialize the project by calling the `init()` method:"
   ]
  },
  {
   "cell_type": "code",
   "execution_count": 5,
   "metadata": {},
   "outputs": [],
   "source": [
    "# Initialize Project\n",
    "project.init()"
   ]
  },
  {
   "cell_type": "markdown",
   "metadata": {},
   "source": [
    "<div class=\"alert alert-block alert-warning\">\n",
    "<b>Warning:</b> The project's methods (including wavelet admittance and coherence calculations) will only work if the project object contains one each of `TopoGrid` and `GravGrid` objects. Since `BougGrid` inherits from `GravGrid`, the method can proceed.\n",
    "</div>\n",
    "\n",
    "<div class=\"alert alert-block alert-info\">\n",
    "<b>Note:</b> For the calculation of the wavelet admittance and coherence, the wavelet transforms need to be calculated first, so this method can take significant time to execute.\n",
    "</div>\n",
    "\n",
    "Now we can calculate the wavelet admittance and coherence between the two grids with a simple call to the `wlet_admit_coh()` method. "
   ]
  },
  {
   "cell_type": "code",
   "execution_count": null,
   "metadata": {},
   "outputs": [],
   "source": [
    "project.wlet_admit_coh()"
   ]
  },
  {
   "cell_type": "markdown",
   "metadata": {},
   "source": [
    "You can check that new attributes have been added to the project"
   ]
  },
  {
   "cell_type": "code",
   "execution_count": null,
   "metadata": {},
   "outputs": [],
   "source": [
    "project.__dict__.keys()"
   ]
  },
  {
   "cell_type": "markdown",
   "metadata": {},
   "source": [
    "* `initialized` is now `True`\n",
    "* `rhoc` and `zc` are set to `None` and will take default values set in the `plateflex.flex.conf_flex` module (see later how to change those).\n",
    "* `wl_admit`, `ewl_admit`, `wl_coh`, `ewl_coh` are the wavelet admittance and error, as wavelet coherence and error.\n",
    "\n",
    "You can even check that the individual grid attributes have been updated with the `wl_trans` attributes:"
   ]
  },
  {
   "cell_type": "code",
   "execution_count": null,
   "metadata": {},
   "outputs": [],
   "source": [
    "project.grids[0].__dict__.keys()"
   ]
  },
  {
   "cell_type": "markdown",
   "metadata": {},
   "source": [
    "You can plot the project's admittance and coherence at a specified wavenumber index using the methods `plot_admit_coh(kindex)` (with possibly other arguments):"
   ]
  },
  {
   "cell_type": "code",
   "execution_count": null,
   "metadata": {},
   "outputs": [],
   "source": [
    "project.plot_admit_coh(kindex=7, contours=contours, mask=mask)"
   ]
  },
  {
   "cell_type": "markdown",
   "metadata": {},
   "source": [
    "<div class=\"alert alert-block alert-info\">\n",
    "<b>Note:</b> As before with the wavelet transform and scalogram, the wavelet admittance and coherence will be calculated before plotting if the attributes are not found in the project..\n",
    "</div>\n",
    "\n",
    "With just a little bit more work, it is now possible to extract wavelet coefficients for a single grid cell and plot the admittance and coherence functions along with errors:"
   ]
  },
  {
   "cell_type": "code",
   "execution_count": null,
   "metadata": {},
   "outputs": [],
   "source": [
    "# Take random cell value within grid and set as attribute\n",
    "project.cell = (250, 100)\n",
    "\n",
    "# Plot admittance and coherence functions\n",
    "project.plot_functions()"
   ]
  },
  {
   "cell_type": "markdown",
   "metadata": {},
   "source": [
    "Now you are ready to estimate the flexural parameters! Check out Example 4."
   ]
  }
 ],
 "metadata": {
  "kernelspec": {
   "display_name": "Python 3",
   "language": "python",
   "name": "python3"
  },
  "language_info": {
   "codemirror_mode": {
    "name": "ipython",
    "version": 3
   },
   "file_extension": ".py",
   "mimetype": "text/x-python",
   "name": "python",
   "nbconvert_exporter": "python",
   "pygments_lexer": "ipython3",
   "version": "3.7.3"
  }
 },
 "nbformat": 4,
 "nbformat_minor": 2
}
